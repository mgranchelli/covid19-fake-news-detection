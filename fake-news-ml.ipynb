{
 "cells": [
  {
   "cell_type": "code",
   "execution_count": 1,
   "metadata": {},
   "outputs": [],
   "source": [
    "import pandas as pd\n",
    "import nltk\n",
    "import re\n",
    "import numpy as np\n",
    "import itertools\n",
    "import string\n",
    "import matplotlib.pyplot as plt \n",
    "from nltk.corpus import stopwords\n",
    "from sklearn.feature_extraction.text import TfidfVectorizer\n",
    "from sklearn.metrics import classification_report,confusion_matrix\n",
    "from sklearn.metrics import accuracy_score, f1_score, precision_score, recall_score\n",
    "from sklearn.svm import LinearSVC\n",
    "from sklearn.linear_model import SGDClassifier, LogisticRegression\n",
    "from sklearn.neural_network import MLPClassifier\n",
    "from sklearn.neighbors import KNeighborsClassifier\n",
    "from sklearn.ensemble import GradientBoostingClassifier\n",
    "from sklearn import tree\n",
    "stopwords = set(stopwords.words('english'))"
   ]
  },
  {
   "cell_type": "code",
   "execution_count": 2,
   "metadata": {},
   "outputs": [],
   "source": [
    "# generate confusion matrix\n",
    "def plot_confusion_matrix(cm,\n",
    "                          target_names,\n",
    "                          title='Confusion matrix',\n",
    "                          cmap=None,\n",
    "                          normalize=True):\n",
    "    \"\"\"\n",
    "    given a sklearn confusion matrix (cm), make a nice plot\n",
    "\n",
    "    Arguments\n",
    "    ---------\n",
    "    cm:           confusion matrix from sklearn.metrics.confusion_matrix\n",
    "\n",
    "    target_names: given classification classes such as [0, 1, 2]\n",
    "                  the class names, for example: ['high', 'medium', 'low']\n",
    "\n",
    "    title:        the text to display at the top of the matrix\n",
    "\n",
    "    cmap:         the gradient of the values displayed from matplotlib.pyplot.cm\n",
    "                  see http://matplotlib.org/examples/color/colormaps_reference.html\n",
    "                  plt.get_cmap('jet') or plt.cm.Blues\n",
    "\n",
    "    normalize:    If False, plot the raw numbers\n",
    "                  If True, plot the proportions\n",
    "\n",
    "    Usage\n",
    "    -----\n",
    "    plot_confusion_matrix(cm           = cm,                  # confusion matrix created by\n",
    "                                                              # sklearn.metrics.confusion_matrix\n",
    "                          normalize    = True,                # show proportions\n",
    "                          target_names = y_labels_vals,       # list of names of the classes\n",
    "                          title        = best_estimator_name) # title of graph\n",
    "\n",
    "    Citiation\n",
    "    ---------\n",
    "    http://scikit-learn.org/stable/auto_examples/model_selection/plot_confusion_matrix.html\n",
    "\n",
    "    \"\"\"\n",
    "\n",
    "    accuracy = np.trace(cm) / float(np.sum(cm))\n",
    "    misclass = 1 - accuracy\n",
    "\n",
    "    if cmap is None:\n",
    "        cmap = plt.get_cmap('Blues')\n",
    "\n",
    "    plt.figure(figsize=(5, 4))\n",
    "    plt.imshow(cm, interpolation='nearest', cmap=cmap)\n",
    "    plt.title(title)\n",
    "    plt.colorbar()\n",
    "\n",
    "    if target_names is not None:\n",
    "        tick_marks = np.arange(len(target_names))\n",
    "        plt.xticks(tick_marks, target_names, rotation=45)\n",
    "        plt.yticks(tick_marks, target_names)\n",
    "\n",
    "    if normalize:\n",
    "        cm = cm.astype('float') / cm.sum(axis=1)[:, np.newaxis]\n",
    "\n",
    "\n",
    "    thresh = cm.max() / 1.5 if normalize else cm.max() / 2\n",
    "    for i, j in itertools.product(range(cm.shape[0]), range(cm.shape[1])):\n",
    "        if normalize:\n",
    "            plt.text(j, i, \"{:0.4f}\".format(cm[i, j]),\n",
    "                     horizontalalignment=\"center\",\n",
    "                     color=\"white\" if cm[i, j] > thresh else \"black\")\n",
    "        else:\n",
    "            plt.text(j, i, \"{:,}\".format(cm[i, j]),\n",
    "                     horizontalalignment=\"center\",\n",
    "                     color=\"white\" if cm[i, j] > thresh else \"black\")\n",
    "\n",
    "\n",
    "    plt.tight_layout()\n",
    "    plt.ylabel('True label')\n",
    "    #plt.xlabel('Predicted label\\naccuracy={:0.4f}; misclass={:0.4f}'.format(accuracy, misclass))\n",
    "    plt.xlabel('Predicted label')\n",
    "    plt.show()"
   ]
  },
  {
   "cell_type": "code",
   "execution_count": 3,
   "metadata": {},
   "outputs": [],
   "source": [
    "# clean text and remove stopwords\n",
    "def cleantext(text):\n",
    "    tx = re.sub(r\"http(\\S)+\",' ',text) \n",
    "    tx = tx.replace('&amp',' ')\n",
    "    tx = tx.translate(str.maketrans('', '', string.punctuation))\n",
    "    tx = re.sub(r\"[^0-9a-zA-Z]+\",' ',tx)\n",
    "    tx = tx.lower().split()\n",
    "    tx = [x.strip() for x in tx if not x.isdigit()]\n",
    "    tx = [w for w in tx if not w in stopwords and len(w) > 1]\n",
    "    tx = \" \".join(tx)\n",
    "    return tx"
   ]
  },
  {
   "cell_type": "code",
   "execution_count": 4,
   "metadata": {},
   "outputs": [],
   "source": [
    "train = pd.read_csv('./dataset/Constraint_English_Train - Sheet1.csv')\n",
    "val = pd.read_csv('./dataset/Constraint_English_Val - Sheet1.csv')\n",
    "test = pd.read_csv('./dataset/english_test_with_labels - Sheet1.csv')"
   ]
  },
  {
   "cell_type": "code",
   "execution_count": 5,
   "metadata": {},
   "outputs": [],
   "source": [
    "train['tweet'] = train['tweet'].map(lambda x: cleantext(x))\n",
    "val['tweet'] = val['tweet'].map(lambda x: cleantext(x))\n",
    "test['tweet'] = test['tweet'].map(lambda x: cleantext(x))"
   ]
  },
  {
   "cell_type": "code",
   "execution_count": 6,
   "metadata": {},
   "outputs": [],
   "source": [
    "# convert real -> 1 and fake -> 0\n",
    "y_train = (train['label'] == 'real').astype(int)\n",
    "y_val = (val['label'] == 'real').astype(int)\n",
    "y_test = (test['label'] == 'real').astype(int)"
   ]
  },
  {
   "cell_type": "code",
   "execution_count": 7,
   "metadata": {},
   "outputs": [],
   "source": [
    "def print_metrices(pred, true):\n",
    "    print(confusion_matrix(true,pred))\n",
    "    print(classification_report(true,pred,))\n",
    "    print(\"Accuracy : \", accuracy_score(true, pred))\n",
    "    print(\"Precison : \", precision_score(true, pred, average = 'weighted'))\n",
    "    print(\"Recall : \", recall_score(true, pred, average = 'weighted'))\n",
    "    print(\"F1 : \", f1_score(true, pred, average = 'weighted'))\n",
    "    \n",
    "    "
   ]
  },
  {
   "cell_type": "code",
   "execution_count": 8,
   "metadata": {},
   "outputs": [],
   "source": [
    "vectorizer = TfidfVectorizer()\n",
    "\n",
    "X_train = vectorizer.fit_transform(train['tweet'])\n",
    "X_val = vectorizer.transform(val['tweet'])\n",
    "X_test = vectorizer.transform(test['tweet'])"
   ]
  },
  {
   "cell_type": "markdown",
   "metadata": {},
   "source": [
    "### Logistic Regression"
   ]
  },
  {
   "cell_type": "code",
   "execution_count": 9,
   "metadata": {},
   "outputs": [],
   "source": [
    "lg = LogisticRegression()     \n",
    "lg = lg.fit(X_train, y_train)\n",
    "y_pred_lg = lg.predict(X_val)"
   ]
  },
  {
   "cell_type": "code",
   "execution_count": 10,
   "metadata": {},
   "outputs": [
    {
     "name": "stdout",
     "output_type": "stream",
     "text": [
      "[[ 933   87]\n",
      " [  95 1025]]\n",
      "              precision    recall  f1-score   support\n",
      "\n",
      "           0       0.91      0.91      0.91      1020\n",
      "           1       0.92      0.92      0.92      1120\n",
      "\n",
      "    accuracy                           0.91      2140\n",
      "   macro avg       0.91      0.91      0.91      2140\n",
      "weighted avg       0.92      0.91      0.91      2140\n",
      "\n",
      "Accuracy :  0.9149532710280374\n",
      "Precison :  0.9150062618365978\n",
      "Recall :  0.9149532710280374\n",
      "F1 :  0.9149669644277795\n"
     ]
    },
    {
     "data": {
      "image/png": "[encoded data removed]",
      "text/plain": [
       "<Figure size 360x288 with 2 Axes>"
      ]
     },
     "metadata": {
      "needs_background": "light"
     },
     "output_type": "display_data"
    }
   ],
   "source": [
    "print_metrices(y_pred_lg, y_val)\n",
    "plot_confusion_matrix(\n",
    "    confusion_matrix(y_val, y_pred_lg),\n",
    "    target_names=['fake','real'], \n",
    "    normalize = False,\n",
    "    title = 'Confusion matix of Logistic Regression on val data')"
   ]
  },
  {
   "cell_type": "markdown",
   "metadata": {},
   "source": [
    "### Support Vector Machine"
   ]
  },
  {
   "cell_type": "code",
   "execution_count": 11,
   "metadata": {},
   "outputs": [],
   "source": [
    "svc = LinearSVC()     \n",
    "svc = svc.fit(X_train, y_train)\n",
    "y_pred_svc = svc.predict(X_val)"
   ]
  },
  {
   "cell_type": "code",
   "execution_count": 12,
   "metadata": {},
   "outputs": [
    {
     "name": "stdout",
     "output_type": "stream",
     "text": [
      "[[ 946   74]\n",
      " [  72 1048]]\n",
      "              precision    recall  f1-score   support\n",
      "\n",
      "           0       0.93      0.93      0.93      1020\n",
      "           1       0.93      0.94      0.93      1120\n",
      "\n",
      "    accuracy                           0.93      2140\n",
      "   macro avg       0.93      0.93      0.93      2140\n",
      "weighted avg       0.93      0.93      0.93      2140\n",
      "\n",
      "Accuracy :  0.9317757009345794\n",
      "Precison :  0.9317712399426807\n",
      "Recall :  0.9317757009345794\n",
      "F1 :  0.9317726549376449\n"
     ]
    },
    {
     "data": {
      "image/png": "[encoded data removed]",
      "text/plain": [
       "<Figure size 360x288 with 2 Axes>"
      ]
     },
     "metadata": {
      "needs_background": "light"
     },
     "output_type": "display_data"
    }
   ],
   "source": [
    "print_metrices(y_pred_svc, y_val)\n",
    "plot_confusion_matrix(\n",
    "    confusion_matrix(y_val, y_pred_svc),\n",
    "    target_names=['fake','real'], \n",
    "    normalize = False,\n",
    "    title = 'Confusion matix of SVM on val data')"
   ]
  },
  {
   "cell_type": "markdown",
   "metadata": {},
   "source": [
    "### Decision Tree Classifier"
   ]
  },
  {
   "cell_type": "code",
   "execution_count": 13,
   "metadata": {},
   "outputs": [],
   "source": [
    "dtc = tree.DecisionTreeClassifier()     \n",
    "dtc = dtc.fit(X_train, y_train)\n",
    "y_pred_dtc = dtc.predict(X_val)"
   ]
  },
  {
   "cell_type": "code",
   "execution_count": 14,
   "metadata": {},
   "outputs": [
    {
     "name": "stdout",
     "output_type": "stream",
     "text": [
      "[[833 187]\n",
      " [161 959]]\n",
      "              precision    recall  f1-score   support\n",
      "\n",
      "           0       0.84      0.82      0.83      1020\n",
      "           1       0.84      0.86      0.85      1120\n",
      "\n",
      "    accuracy                           0.84      2140\n",
      "   macro avg       0.84      0.84      0.84      2140\n",
      "weighted avg       0.84      0.84      0.84      2140\n",
      "\n",
      "Accuracy :  0.8373831775700935\n",
      "Precison :  0.8373978108838315\n",
      "Recall :  0.8373831775700935\n",
      "F1 :  0.8372664455524955\n"
     ]
    },
    {
     "data": {
      "image/png": "[encoded data removed]",
      "text/plain": [
       "<Figure size 360x288 with 2 Axes>"
      ]
     },
     "metadata": {
      "needs_background": "light"
     },
     "output_type": "display_data"
    }
   ],
   "source": [
    "print_metrices(y_pred_dtc, y_val)\n",
    "plot_confusion_matrix(\n",
    "    confusion_matrix(y_val, y_pred_dtc),\n",
    "    target_names=['fake','real'], \n",
    "    normalize = False,\n",
    "    title = 'Confusion matix of DTC on val data')"
   ]
  },
  {
   "cell_type": "markdown",
   "metadata": {},
   "source": [
    "### Gradient Boosting"
   ]
  },
  {
   "cell_type": "code",
   "execution_count": 15,
   "metadata": {},
   "outputs": [],
   "source": [
    "gbc = GradientBoostingClassifier()     \n",
    "gbc = gbc.fit(X_train, y_train)\n",
    "y_pred_gbc = gbc.predict(X_val)"
   ]
  },
  {
   "cell_type": "code",
   "execution_count": 16,
   "metadata": {},
   "outputs": [
    {
     "name": "stdout",
     "output_type": "stream",
     "text": [
      "[[919 101]\n",
      " [201 919]]\n",
      "              precision    recall  f1-score   support\n",
      "\n",
      "           0       0.82      0.90      0.86      1020\n",
      "           1       0.90      0.82      0.86      1120\n",
      "\n",
      "    accuracy                           0.86      2140\n",
      "   macro avg       0.86      0.86      0.86      2140\n",
      "weighted avg       0.86      0.86      0.86      2140\n",
      "\n",
      "Accuracy :  0.8588785046728972\n",
      "Precison :  0.8626376017696799\n",
      "Recall :  0.8588785046728972\n",
      "F1 :  0.8588785046728972\n"
     ]
    },
    {
     "data": {
      "image/png": "[encoded data removed]",
      "text/plain": [
       "<Figure size 360x288 with 2 Axes>"
      ]
     },
     "metadata": {
      "needs_background": "light"
     },
     "output_type": "display_data"
    }
   ],
   "source": [
    "print_metrices(y_pred_gbc, y_val)\n",
    "plot_confusion_matrix(\n",
    "    confusion_matrix(y_val, y_pred_gbc),\n",
    "    target_names=['fake','real'], \n",
    "    normalize = False,\n",
    "    title = 'Confusion matix of GBC on val data')"
   ]
  },
  {
   "cell_type": "markdown",
   "metadata": {},
   "source": [
    "### Support Vector Machine on test data"
   ]
  },
  {
   "cell_type": "code",
   "execution_count": 17,
   "metadata": {},
   "outputs": [],
   "source": [
    "y_pred_svc_test = svc.predict(X_test)"
   ]
  },
  {
   "cell_type": "code",
   "execution_count": 18,
   "metadata": {},
   "outputs": [
    {
     "name": "stdout",
     "output_type": "stream",
     "text": [
      "[[ 959   61]\n",
      " [  75 1045]]\n",
      "              precision    recall  f1-score   support\n",
      "\n",
      "           0       0.93      0.94      0.93      1020\n",
      "           1       0.94      0.93      0.94      1120\n",
      "\n",
      "    accuracy                           0.94      2140\n",
      "   macro avg       0.94      0.94      0.94      2140\n",
      "weighted avg       0.94      0.94      0.94      2140\n",
      "\n",
      "Accuracy :  0.9364485981308411\n",
      "Precison :  0.9365622999948973\n",
      "Recall :  0.9364485981308411\n",
      "F1 :  0.9364653331426321\n"
     ]
    },
    {
     "data": {
      "image/png": "[encoded data removed]",
      "text/plain": [
       "<Figure size 360x288 with 2 Axes>"
      ]
     },
     "metadata": {
      "needs_background": "light"
     },
     "output_type": "display_data"
    }
   ],
   "source": [
    "print_metrices(y_pred_svc_test, y_test)\n",
    "plot_confusion_matrix(\n",
    "    confusion_matrix(y_test, y_pred_svc_test),\n",
    "    target_names=['fake','real'], \n",
    "    normalize = False,\n",
    "    title = 'Confusion matix of SVM on test data')"
   ]
  }
 ],
 "metadata": {
  "kernelspec": {
   "display_name": "Python 3.8.5 ('base')",
   "language": "python",
   "name": "python3"
  },
  "language_info": {
   "codemirror_mode": {
    "name": "ipython",
    "version": 3
   },
   "file_extension": ".py",
   "mimetype": "text/x-python",
   "name": "python",
   "nbconvert_exporter": "python",
   "pygments_lexer": "ipython3",
   "version": "3.8.5"
  },
  "vscode": {
   "interpreter": {
    "hash": "ddacd16ca7b5d1ec3d04d14cb332886a4c5b0290015d3fa549433c5b0a5f02d7"
   }
  }
 },
 "nbformat": 4,
 "nbformat_minor": 2
}
